{
  "cells":[
    {
      "cell_type":"markdown",
      "source":[
        "# Задание №3. Алгоритмы классификации и регрессии\n",
        "## Классификация\n",
        "Примените к данным cancer.csv методы:\n",
        "* Дерево решений (sklearn.tree.DecisionTreeClassifier)\n",
        "* Random Forest (sklearn.ensemble.RandomForestClassifier)\n",
        "* AdaBoost. (sklearn.ensemble.AdaBoostClassifier)\n",
        " \n",
        "Выберите лучшую модель.\n",
        "## Регрессия\n",
        "Примените к данным noisysine.csv и hydrodynamics.csv методы:\n",
        "* Полиномиальную регрессию без регуляризации (для датасета noisysine – степеней от 2 до 5, для датасета hydrodynamics – степени 2).\n",
        "* Гребневая регрессия. Найдите оптимальный параметр регуляризации.\n",
        "* LASSO.\n",
        "\n",
        "Найдите оптимальный параметр регуляризации. Сколько признаков используется в лучшей конфигурации?\n",
        "Оцените работу методов через R-score."
      ],
      "attachments":{
        
      },
      "metadata":{
        
      }
    }
  ],
  "metadata":{
    
  },
  "nbformat":4,
  "nbformat_minor":0
}